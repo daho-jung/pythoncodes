{
 "cells": [
  {
   "cell_type": "code",
   "execution_count": 1,
   "id": "b3829965",
   "metadata": {},
   "outputs": [],
   "source": [
    "import selenium\n",
    "from selenium import webdriver\n",
    "from selenium.webdriver import ActionChains\n",
    "\n",
    "from selenium.webdriver.common.keys import Keys\n",
    "from selenium.webdriver.common.by import By\n",
    "\n",
    "from selenium.webdriver.support import expected_conditions as EC\n",
    "from selenium.webdriver.support.ui import Select\n",
    "from selenium.webdriver.support.ui import WebDriverWait\n",
    "import time"
   ]
  },
  {
   "cell_type": "code",
   "execution_count": 33,
   "id": "db68e5f4",
   "metadata": {},
   "outputs": [
    {
     "name": "stdout",
     "output_type": "stream",
     "text": [
      "<selenium.webdriver.remote.webelement.WebElement (session=\"23bf12f5e2c290924fb992af9daca098\", element=\"4421a4f5-0945-4053-bf53-8df6383fde84\")>\n"
     ]
    }
   ],
   "source": [
    "driver = webdriver.Chrome(executable_path='../chromedriver')\n",
    "driver.implicitly_wait(time_to_wait=10)\n",
    "URL = \"https://jumin.mois.go.kr/\"\n",
    "driver.get(url=URL)\n",
    "\n",
    "driver.switch_to.frame(driver.find_element_by_xpath('//*[@id=\"totalFrame\"]'))\n",
    "e = driver.find_element_by_xpath('//*[@id=\"searchYearMonth\"]')\n",
    "print(e)\n",
    "e.click()\n",
    "# select = Select(driver.find_element_by_xpath('//*[@id=\"searchYearStart\"]'))\n",
    "# select.select_by_value('2011')"
   ]
  }
 ],
 "metadata": {
  "kernelspec": {
   "display_name": "Python 3",
   "language": "python",
   "name": "python3"
  },
  "language_info": {
   "codemirror_mode": {
    "name": "ipython",
    "version": 3
   },
   "file_extension": ".py",
   "mimetype": "text/x-python",
   "name": "python",
   "nbconvert_exporter": "python",
   "pygments_lexer": "ipython3",
   "version": "3.8.8"
  }
 },
 "nbformat": 4,
 "nbformat_minor": 5
}
